{
  "nbformat": 4,
  "nbformat_minor": 0,
  "metadata": {
    "colab": {
      "name": "lectura_tweets.ipynb",
      "provenance": [],
      "collapsed_sections": [],
      "authorship_tag": "ABX9TyPPJoUgOjOHVWMHddZrUwXX",
      "include_colab_link": true
    },
    "kernelspec": {
      "name": "python3",
      "display_name": "Python 3"
    }
  },
  "cells": [
    {
      "cell_type": "markdown",
      "metadata": {
        "id": "view-in-github",
        "colab_type": "text"
      },
      "source": [
        "<a href=\"https://colab.research.google.com/github/JuanfAAlfonso/Analisis-de-mourning/blob/master/lectura_tweets.ipynb\" target=\"_parent\"><img src=\"https://colab.research.google.com/assets/colab-badge.svg\" alt=\"Open In Colab\"/></a>"
      ]
    },
    {
      "cell_type": "markdown",
      "metadata": {
        "id": "GeMA8YEwqidO",
        "colab_type": "text"
      },
      "source": [
        "# Lecura de csv que contiene la información de los tweets #"
      ]
    },
    {
      "cell_type": "markdown",
      "metadata": {
        "id": "Ib0RpQlKqwaf",
        "colab_type": "text"
      },
      "source": [
        "Se importan las librerias a usar en el notebook."
      ]
    },
    {
      "cell_type": "code",
      "metadata": {
        "id": "DcshixLTqcAb",
        "colab_type": "code",
        "colab": {}
      },
      "source": [
        "import pandas as pd"
      ],
      "execution_count": 0,
      "outputs": []
    },
    {
      "cell_type": "markdown",
      "metadata": {
        "id": "e91UHawSq3VS",
        "colab_type": "text"
      },
      "source": [
        "created by\n",
        "* Juan Felipe Alfonso Avila\n",
        "* Andrés Felipe Diaz"
      ]
    }
  ]
}